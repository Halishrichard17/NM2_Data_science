{
  "nbformat": 4,
  "nbformat_minor": 0,
  "metadata": {
    "colab": {
      "private_outputs": true,
      "provenance": []
    },
    "kernelspec": {
      "name": "python3",
      "display_name": "Python 3"
    },
    "language_info": {
      "name": "python"
    }
  },
  "cells": [
    {
      "cell_type": "code",
      "execution_count": null,
      "metadata": {
        "id": "Cbo0zMt8M5nK"
      },
      "outputs": [],
      "source": [
        "import pandas as pd\n",
        "import numpy as np\n",
        "import seaborn as sns\n",
        "import matplotlib.pyplot as plt\n",
        "from sklearn.model_selection import train_test_split\n",
        "from sklearn.preprocessing import LabelEncoder\n",
        "from sklearn.linear_model import LinearRegression\n",
        "from sklearn.tree import DecisionTreeRegressor\n",
        "from sklearn.ensemble import RandomForestRegressor\n",
        "from sklearn.metrics import mean_squared_error, r2_score\n",
        "\n",
        "# Load the dataset\n",
        "dataset = pd.read_csv('cardataset.csv')\n",
        "\n",
        "# Perform EDA\n",
        "sns.histplot(dataset['selling_price'], kde=True)\n",
        "plt.show()\n",
        "\n",
        "sns.scatterplot(x='year', y='selling_price', data=dataset)\n",
        "plt.show()\n",
        "\n",
        "sns.boxplot(x='fuel', y='selling_price', data=dataset)\n",
        "plt.show()\n",
        "\n",
        "sns.boxplot(x='transmission', y='selling_price', data=dataset)\n",
        "plt.show()\n",
        "\n",
        "sns.boxplot(x='seller_type', y='selling_price', data=dataset)\n",
        "plt.show()\n",
        "\n",
        "# Preprocess the dataset\n",
        "X = dataset.drop(['name', 'selling_price'], axis=1)\n",
        "y = dataset['selling_price']\n",
        "\n",
        "# Label encode categorical features\n",
        "le = LabelEncoder()\n",
        "X['fuel'] = le.fit_transform(X['fuel'])\n",
        "X['seller_type'] = le.fit_transform(X['seller_type'])\n",
        "X['transmission'] = le.fit_transform(X['transmission'])\n",
        "\n",
        "# Split the dataset into train and test sets\n",
        "X_train, X_test, y_train, y_test = train_test_split(X, y, test_size=0.2, random_state=42)\n",
        "\n",
        "# Choose different algorithms and try to get the best performing model\n",
        "models = [LinearRegression(), DecisionTreeRegressor(), RandomForestRegressor()]\n",
        "for model in models:\n",
        "    model.fit(y_train,X_train )\n",
        "    y_pred = model.predict(X_test)\n",
        "    rmse = np.sqrt(mean_squared_error(y_test, y_pred))\n",
        "    r2 = r2_score(y_test, y_pred)\n",
        "    print(model.__class__.__name__)\n",
        "    print('RMSE:', rmse)\n",
        "    print('R2 Score:', r2)\n",
        "\n",
        "# Build a predictive system\n",
        "def predict_price(model, Year, Present_Price, Kms_Driven, Fuel_Type, Seller_Type, Transmission, Owner):\n",
        "    Fuel_Type_Petrol = 0\n",
        "    Fuel_Type_Diesel = 0\n",
        "    if Fuel_Type == 'Petrol':\n",
        "        Fuel_Type_Petrol = 1\n",
        "    elif Fuel_Type == 'Diesel':\n",
        "        Fuel_Type_Diesel = 1\n",
        "\n",
        "    Seller_Type_Individual = 0\n",
        "    if Seller_Type == 'Individual':\n",
        "        Seller_Type_Individual = 1\n",
        "\n",
        "    Transmission_Manual = 0\n",
        "    if Transmission == 'Manual':\n",
        "        Transmission_Manual = 1\n",
        "\n",
        "    prediction = model.predict([[Year, Present_Price, Kms_Driven, Fuel_Type_Diesel, Fuel_Type_Petrol, Seller_Type_Individual, Transmission_Manual, Owner]])\n",
        "    return prediction[0]\n",
        "\n",
        "model = RandomForestRegressor()\n",
        "model.fit(X_train, y_train)\n",
        "\n",
        "print(predict_price(model, 2014, 5.59, 27000, 'Petrol', 'Dealer', 'Manual', 0))\n"
      ]
    },
    {
      "cell_type": "code",
      "source": [],
      "metadata": {
        "id": "3UwHAx0TNaM-"
      },
      "execution_count": null,
      "outputs": []
    },
    {
      "cell_type": "markdown",
      "source": [
        "# New Section"
      ],
      "metadata": {
        "id": "qfx9YmdhNWXc"
      }
    },
    {
      "cell_type": "code",
      "source": [],
      "metadata": {
        "id": "QY3vRcqzNFcj"
      },
      "execution_count": null,
      "outputs": []
    }
  ]
}