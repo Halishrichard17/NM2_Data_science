{
  "nbformat": 4,
  "nbformat_minor": 0,
  "metadata": {
    "colab": {
      "private_outputs": true,
      "provenance": [],
      "toc_visible": true
    },
    "kernelspec": {
      "name": "python3",
      "display_name": "Python 3"
    },
    "language_info": {
      "name": "python"
    }
  },
  "cells": [
    {
      "cell_type": "code",
      "execution_count": null,
      "metadata": {
        "id": "Cbo0zMt8M5nK"
      },
      "outputs": [],
      "source": [
        "\n",
        "import pandas as pd\n",
        "import seaborn as sns\n",
        "import numpy as np\n",
        "import matplotlib.pyplot as plt\n",
        "import plotly.express as px\n",
        "titanic_data = pd.read_csv('tested.csv')\n",
        "\n",
        "# 1.survival rate\n",
        "overall_survival_rate = titanic_data['Survived'].mean()\n",
        "print('Overall survival rate:', overall_survival_rate)\n",
        "\n",
        "# distribution\n",
        "gender_distribution = titanic_data['Sex'].value_counts(normalize=True)\n",
        "print('Gender distribution:')\n",
        "print(gender_distribution)\n",
        "\n",
        "# 3.gender\n",
        "survival_rate_by_gender = titanic_data.groupby('Sex')['Survived'].mean()\n",
        "print('Survival rate by gender:')\n",
        "print(survival_rate_by_gender)\n",
        "\n",
        "# 4.distribution\n",
        "sns.histplot(data=titanic_data, x='Age', bins=20)\n",
        "plt.title('Age distribution of Titanic passengers')\n",
        "plt.show()\n",
        "\n",
        "# 5.  journey class\n",
        "survival_rate_by_class = titanic_data.groupby('Pclass')['Survived'].mean()\n",
        "print('Survival rate by journey class:')\n",
        "print(survival_rate_by_class)"
      ]
    },
    {
      "cell_type": "markdown",
      "source": [
        "# New Section"
      ],
      "metadata": {
        "id": "qfx9YmdhNWXc"
      }
    },
    {
      "cell_type": "code",
      "source": [],
      "metadata": {
        "id": "QY3vRcqzNFcj"
      },
      "execution_count": null,
      "outputs": []
    }
  ]
}